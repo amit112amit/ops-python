{
 "cells": [
  {
   "cell_type": "markdown",
   "metadata": {},
   "source": [
    "## Visualization of Shells"
   ]
  },
  {
   "cell_type": "code",
   "execution_count": 1,
   "metadata": {},
   "outputs": [],
   "source": [
    "import itkwidgets as itkw\n",
    "from vtkmodules.vtkIOXdmf2 import vtkXdmfReader\n",
    "from vtkmodules.vtkCommonDataModel import vtkUnstructuredGrid\n",
    "from vtkmodules.vtkFiltersGeometry import vtkGeometryFilter\n",
    "from vtkmodules.vtkCommonExecutionModel import vtkStreamingDemandDrivenPipeline\n",
    "import ipywidgets as ipw\n",
    "import numpy as np\n",
    "import pandas as pd"
   ]
  },
  {
   "cell_type": "code",
   "execution_count": 2,
   "metadata": {},
   "outputs": [],
   "source": [
    "schedule = pd.read_csv('/home/amit/WorkSpace/UCLA/simulations/PhaseDiagram/Schedule.csv', sep='\\t')"
   ]
  },
  {
   "cell_type": "code",
   "execution_count": 3,
   "metadata": {},
   "outputs": [],
   "source": [
    "label = ipw.Label(value=r'\\(\\gamma = 0.2\\), \\(1/\\beta = 0.01\\)')\n",
    "runw = ipw.IntSlider(min=0, max=2, step=1, value=0, description=r'Run', continuous_update=False)\n",
    "filew = ipw.IntSlider(min=1, max=600, step=1, value=1, description=r'Simulation', continuous_update=False)\n",
    "stepsw = ipw.IntSlider(min=0, max=999, step=1, value=0, description=r'Time Step', continuous_update=False)\n",
    "box = ipw.VBox([label, ipw.HBox([runw, filew, stepsw])])"
   ]
  },
  {
   "cell_type": "code",
   "execution_count": 4,
   "metadata": {},
   "outputs": [],
   "source": [
    "basedir = '/home/amit/WorkSpace/UCLA/simulations/PhaseDiagram/XDMFFiles'\n",
    "initialfile = '{}/PhaseDiagram0/VTKFile-1.xdmf'.format(basedir)\n",
    "rd = vtkXdmfReader()\n",
    "rd.SetFileName(initialfile)\n",
    "rd.UpdateInformation()\n",
    "info = rd.GetExecutive().GetOutputInformation(0)\n",
    "gf = vtkGeometryFilter()\n",
    "gf.SetInputConnection(rd.GetOutputPort())\n",
    "gf.Update()\n",
    "pd = gf.GetOutput()\n",
    "pd.GetPointData().SetActiveNormals('PointNormals')\n",
    "vtkview = itkw.view(geometries=pd)\n",
    "\n",
    "def selectfile(run, fid):\n",
    "    gamma = schedule.iloc[fid - 1].Gamma\n",
    "    temperature = schedule.iloc[fid - 1].Temperature\n",
    "    label.value = r'\\(\\gamma = {0:9.3f}\\), \\(1/\\beta = {1:6.4f}\\)'.format(gamma, temperature)\n",
    "    filename = '{}/PhaseDiagram{}/VTKFile-{}.xdmf'.format(basedir, run, fid)\n",
    "    rd.SetFileName(filename)\n",
    "    rd.UpdateInformation()\n",
    "    info = rd.GetExecutive().GetOutputInformation(0)\n",
    "    timesteps = info.Get(vtkStreamingDemandDrivenPipeline.TIME_STEPS())\n",
    "    stepsw.max = timesteps[-1]\n",
    "    stepsw.value = timesteps[-1]\n",
    "    updateview(stepsw.value)\n",
    "    \n",
    "def updateview(time):\n",
    "    info.Set(vtkStreamingDemandDrivenPipeline.UPDATE_TIME_STEP(), time)\n",
    "    rd.Modified()\n",
    "    gf.Update()\n",
    "    pd.GetPointData().SetActiveNormals('PointNormals')\n",
    "    vtkview.geometries = pd"
   ]
  },
  {
   "cell_type": "code",
   "execution_count": 5,
   "metadata": {},
   "outputs": [
    {
     "data": {
      "application/vnd.jupyter.widget-view+json": {
       "model_id": "9a15448a03014bb1ac6151575c83992e",
       "version_major": 2,
       "version_minor": 0
      },
      "text/plain": [
       "VBox(children=(VBox(children=(Label(value='\\\\(\\\\gamma =     0.200\\\\), \\\\(1/\\\\beta = 0.1000\\\\)'), HBox(children…"
      ]
     },
     "metadata": {},
     "output_type": "display_data"
    }
   ],
   "source": [
    "filewidget = ipw.interactive_output(selectfile, {'run':runw, 'fid':filew})\n",
    "viewwidget = ipw.interactive_output(updateview, {'time': stepsw} )\n",
    "display(ipw.VBox([box, filewidget, viewwidget, vtkview]))"
   ]
  }
 ],
 "metadata": {
  "kernelspec": {
   "display_name": "Python 3",
   "language": "python",
   "name": "python3"
  },
  "language_info": {
   "codemirror_mode": {
    "name": "ipython",
    "version": 3
   },
   "file_extension": ".py",
   "mimetype": "text/x-python",
   "name": "python",
   "nbconvert_exporter": "python",
   "pygments_lexer": "ipython3",
   "version": "3.7.4"
  }
 },
 "nbformat": 4,
 "nbformat_minor": 4
}
