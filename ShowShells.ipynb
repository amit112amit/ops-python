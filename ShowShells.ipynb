{
 "cells": [
  {
   "cell_type": "markdown",
   "metadata": {},
   "source": [
    "## Visualization of Shells"
   ]
  },
  {
   "cell_type": "code",
   "execution_count": 1,
   "metadata": {},
   "outputs": [],
   "source": [
    "import ipympl\n",
    "%matplotlib widget\n",
    "import matplotlib.pyplot as plt\n",
    "import itkwidgets as itkw\n",
    "from vtkmodules.vtkIOXdmf2 import vtkXdmfReader\n",
    "from vtkmodules.vtkCommonDataModel import vtkUnstructuredGrid\n",
    "from vtkmodules.vtkFiltersGeometry import vtkGeometryFilter\n",
    "from vtkmodules.vtkCommonExecutionModel import vtkStreamingDemandDrivenPipeline\n",
    "import ipywidgets as ipw\n",
    "import numpy as np\n",
    "import pandas as pd\n",
    "import h5py as hp\n",
    "import numba"
   ]
  },
  {
   "cell_type": "code",
   "execution_count": 2,
   "metadata": {},
   "outputs": [],
   "source": [
    "schedule = pd.read_csv('/home/amit/WorkSpace/UCLA/simulations/PhaseDiagram/Schedule.csv', sep=',')"
   ]
  },
  {
   "cell_type": "code",
   "execution_count": 3,
   "metadata": {},
   "outputs": [],
   "source": [
    "runw = ipw.Dropdown(value=0, options=[0, 1, 2], description=r'Shell Run')\n",
    "filew = ipw.IntSlider(min=1, max=600, step=1, value=1, description=r'Simulation', continuous_update=False)\n",
    "stepsw = ipw.IntSlider(min=0, max=999, step=1, value=0, description=r'Time Step', continuous_update=False)\n",
    "check0w = ipw.Checkbox(value=True, description='Run0: Red Curve', disabled=False)\n",
    "check1w = ipw.Checkbox(value=True, description='Run1: Blue Curve', disabled=False)\n",
    "check2w = ipw.Checkbox(value=True, description='Run2: Purple Curve', disabled=False)\n",
    "dropdownw = ipw.Dropdown(options=['Volume', 'RMSAngleDeficit'], value='Volume', description='Middle Plot:', disabled=False)\n",
    "box = ipw.HBox([ipw.VBox([check0w, check1w, check2w]), ipw.VBox([dropdownw, filew]), ipw.VBox([runw, stepsw])])"
   ]
  },
  {
   "cell_type": "code",
   "execution_count": 4,
   "metadata": {},
   "outputs": [],
   "source": [
    "basedir = '/home/amit/WorkSpace/UCLA/simulations/PhaseDiagram'\n",
    "xdmffile = '{}/XDMFFiles/Run0/VTKFile-1.xdmf'.format(basedir)\n",
    "rd = vtkXdmfReader()\n",
    "rd.SetFileName(xdmffile)\n",
    "rd.UpdateInformation()\n",
    "info = rd.GetExecutive().GetOutputInformation(0)\n",
    "gf = vtkGeometryFilter()\n",
    "gf.SetInputConnection(rd.GetOutputPort())\n",
    "gf.Update()\n",
    "pd = gf.GetOutput()\n",
    "pd.GetPointData().SetActiveNormals('PointNormals')\n",
    "vtkview = itkw.view(geometries=pd)\n",
    "\n",
    "def selectfile(change):\n",
    "    run = runw.value\n",
    "    fid = filew.value\n",
    "    gamma = schedule.Gamma[fid - 1]\n",
    "    temperature = schedule.Temperature[fid - 1]\n",
    "    filename = '{}/XDMFFiles/Run{}/VTKFile-{}.xdmf'.format(basedir, run, fid)\n",
    "    rd.SetFileName(filename)\n",
    "    rd.UpdateInformation()\n",
    "    info = rd.GetExecutive().GetOutputInformation(0)\n",
    "    timesteps = info.Get(vtkStreamingDemandDrivenPipeline.TIME_STEPS())\n",
    "    stepsw.max = timesteps[-1]\n",
    "    stepsw.value = timesteps[-1]\n",
    "    updateview(stepsw.value)\n",
    "    \n",
    "    \n",
    "def updateview(data):\n",
    "    time = data if isinstance(data, int) else data.new\n",
    "    info.Set(vtkStreamingDemandDrivenPipeline.UPDATE_TIME_STEP(), time)\n",
    "    rd.Modified()\n",
    "    gf.Update()\n",
    "    pd = gf.GetOutput()\n",
    "    pd.GetPointData().SetActiveNormals('PointNormals')\n",
    "    vtkview.geometries = pd\n",
    "\n",
    "runw.observe(selectfile, names='value')\n",
    "filew.observe(selectfile, names='value')\n",
    "stepsw.observe(updateview, names='value')"
   ]
  },
  {
   "cell_type": "code",
   "execution_count": 5,
   "metadata": {},
   "outputs": [],
   "source": [
    "def getasphericity(r, i):\n",
    "    \"\"\"\n",
    "    Read asphericity from HDF5 file.\n",
    "    \"\"\"\n",
    "    with hp.File('../RawData/Run{0}/VTKFile-{1}.h5'.format(r, i), 'r') as hfile:\n",
    "        asph = hfile['Asphericity'][:]\n",
    "    return asph\n",
    "\n",
    "\n",
    "def get_msd_etc(rid, fid, etc):\n",
    "    filename = '../RawData/Run{}/DetailedOutput-{}.h5'.format(rid, fid)\n",
    "    with hp.File(filename, 'r') as hfile:\n",
    "        etcarr = hfile[etc][::2000]\n",
    "        msd = hfile['MSD'][::2000]\n",
    "    return etcarr, msd"
   ]
  },
  {
   "cell_type": "code",
   "execution_count": 6,
   "metadata": {},
   "outputs": [],
   "source": [
    "plt.ioff()\n",
    "plt.clf()\n",
    "plt.style.use('ggplot')\n",
    "plt.rc('text', usetex=True)\n",
    "\n",
    "fig, (ax0, ax1, ax2) = plt.subplots(3, 1, sharex=True)\n",
    "fig.set_tight_layout(True)\n",
    "fig.canvas.layout.max_width='750px'\n",
    "fig.canvas.layout.height='700px'\n",
    "\n",
    "ax0.set_ylabel('MSD')\n",
    "ax1.set_ylabel('Volume')\n",
    "ax2.set_ylabel('Asphericity')\n",
    "ax0.set_ylim(0.0, 5.0)\n",
    "ax1.set_ylim(20.0, 50.0)\n",
    "ax2.set_ylim(-0.005, 0.05)\n",
    "\n",
    "ax2.set_xlabel(r'Steps')\n",
    "_ = ax2.set_xlim(1, 2000000)"
   ]
  },
  {
   "cell_type": "code",
   "execution_count": 7,
   "metadata": {},
   "outputs": [],
   "source": [
    "time = np.arange(0, 2000000, 2000)\n",
    "\n",
    "text = r'$\\gamma = {0:9.3f}$, $1/\\beta = {1:6.4f}$'.format(\n",
    "    schedule.Gamma[0], schedule.Temperature[0])\n",
    "title = ax0.set_title(text)\n",
    "\n",
    "etcarr0, msdarr0 = get_msd_etc(0, 1, 'Volume')\n",
    "etcarr1, msdarr1 = get_msd_etc(1, 1, 'Volume')\n",
    "etcarr2, msdarr2 = get_msd_etc(2, 1, 'Volume')\n",
    "\n",
    "msd0, = ax0.plot(time, msdarr0)\n",
    "msd1, = ax0.plot(time, msdarr1)\n",
    "msd2, = ax0.plot(time, msdarr2)\n",
    "msdl  = [msd0, msd1, msd2]\n",
    "\n",
    "etc0, = ax1.plot(time, etcarr0)\n",
    "etc1, = ax1.plot(time, etcarr1)\n",
    "etc2, = ax1.plot(time, etcarr2)\n",
    "etcl  = [etc0, etc1, etc2]\n",
    "\n",
    "asph0, = ax2.plot(time, getasphericity(0, 1))\n",
    "asph1, = ax2.plot(time, getasphericity(1, 1))\n",
    "asph2, = ax2.plot(time, getasphericity(2, 1))\n",
    "aspl = [asph0, asph1, asph2]\n",
    "\n",
    "tl0 = ax0.axvline(x=0, ls='--', lw=0.5, c='k')\n",
    "tl1 = ax1.axvline(x=0, ls='--', lw=0.5, c='k')\n",
    "tl2 = ax2.axvline(x=0, ls='--', lw=0.5, c='k')\n",
    "tvlines = [tl0, tl1, tl2]"
   ]
  },
  {
   "cell_type": "code",
   "execution_count": 8,
   "metadata": {},
   "outputs": [
    {
     "data": {
      "application/vnd.jupyter.widget-view+json": {
       "model_id": "999e022c5920470f885ecc2afd232562",
       "version_major": 2,
       "version_minor": 0
      },
      "text/plain": [
       "Textarea(value='')"
      ]
     },
     "metadata": {},
     "output_type": "display_data"
    }
   ],
   "source": [
    "ta = ipw.Textarea(value='')\n",
    "display(ta)"
   ]
  },
  {
   "cell_type": "code",
   "execution_count": 9,
   "metadata": {},
   "outputs": [],
   "source": [
    "def updateasphplot(change):\n",
    "    ta.value = 'updateasphplot() called'\n",
    "    fid = filew.value\n",
    "    c0 = check0w.value\n",
    "    c1 = check1w.value\n",
    "    c2 = check2w.value\n",
    "    etc= dropdownw.value\n",
    "    \n",
    "    gamma = schedule.Gamma[fid - 1]\n",
    "    temperature = schedule.Temperature[fid - 1]\n",
    "    \n",
    "    text = r'$\\gamma = {0:9.3f}$, $1/\\beta = {1:6.4f}$'.format(gamma, temperature)\n",
    "    title.set_text(text)\n",
    "    \n",
    "    for i, c in enumerate((c0, c1, c2)):\n",
    "        if c:\n",
    "            asph = getasphericity(i, fid)\n",
    "            aspl[i].set_data(time, asph)\n",
    "            etcarr, msd = get_msd_etc(i, fid, etc)\n",
    "            etcl[i].set_data(time, etcarr)\n",
    "            msdl[i].set_data(time, msd)\n",
    "        else:\n",
    "            msdl[i].set_data([], [])\n",
    "            etcl[i].set_data([], [])\n",
    "            aspl[i].set_data([], [])\n",
    "            \n",
    "    tvalue = stepsw.value * 2000\n",
    "    for tl in tvlines:\n",
    "        tl.set_xdata(np.array([tvalue, tvalue]))\n",
    "        \n",
    "    fig.canvas.draw()\n",
    "    fig.flush_events()\n",
    "\n",
    "\n",
    "def updatetimelines(change):\n",
    "    tvalue = stepsw.value * 2000\n",
    "    for tl in tvlines:\n",
    "        tl.set_xdata(np.array([tvalue, tvalue]))\n",
    "    fig.canvas.draw()\n",
    "    fig.flush_events()\n",
    "\n",
    "    \n",
    "def updatemiddleplot(change):\n",
    "    etcvalue = change.new\n",
    "    ax1.set_ylabel(etcvalue)\n",
    "    if etcvalue is 'RMSAngleDeficit':\n",
    "        ax1.set_ylim(0.0, 1.4)\n",
    "    elif etcvalue is 'Volume':\n",
    "        ax1.set_ylim(20.0, 50.0)\n",
    "    updateasphplot(change)\n",
    " \n",
    "\n",
    "dropdownw.observe(updatemiddleplot, names='value')\n",
    "stepsw.observe(updatetimelines, names='value')\n",
    "\n",
    "stepsw.observe(updateasphplot, names='value')\n",
    "filew.observe(updateasphplot, names='value')\n",
    "check0w.observe(updateasphplot, names='value')\n",
    "check1w.observe(updateasphplot, names='value')\n",
    "check2w.observe(updateasphplot, names='value')"
   ]
  },
  {
   "cell_type": "code",
   "execution_count": 10,
   "metadata": {
    "jupyter": {
     "source_hidden": true
    }
   },
   "outputs": [
    {
     "data": {
      "application/vnd.jupyter.widget-view+json": {
       "model_id": "12655dfa00534e2dbe8ba6e434ae3628",
       "version_major": 2,
       "version_minor": 0
      },
      "text/plain": [
       "VBox(children=(HBox(children=(VBox(children=(Checkbox(value=True, description='Run0: Red Curve'), Checkbox(val…"
      ]
     },
     "metadata": {},
     "output_type": "display_data"
    }
   ],
   "source": [
    "display(ipw.VBox([box, ipw.HBox([fig.canvas, vtkview])]))"
   ]
  }
 ],
 "metadata": {
  "kernelspec": {
   "display_name": "Python 3",
   "language": "python",
   "name": "python3"
  },
  "language_info": {
   "codemirror_mode": {
    "name": "ipython",
    "version": 3
   },
   "file_extension": ".py",
   "mimetype": "text/x-python",
   "name": "python",
   "nbconvert_exporter": "python",
   "pygments_lexer": "ipython3",
   "version": "3.7.4"
  }
 },
 "nbformat": 4,
 "nbformat_minor": 4
}
